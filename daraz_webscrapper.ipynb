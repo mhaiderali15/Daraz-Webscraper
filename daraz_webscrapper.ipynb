{
 "cells": [
  {
   "cell_type": "code",
   "execution_count": 1,
   "id": "920720af",
   "metadata": {},
   "outputs": [],
   "source": [
    "from selenium import webdriver\n",
    "import pandas as pd\n",
    "import numpy as np\n",
    "from bs4 import BeautifulSoup"
   ]
  },
  {
   "cell_type": "code",
   "execution_count": 5,
   "id": "6743ba23",
   "metadata": {},
   "outputs": [],
   "source": [
    "browser = webdriver.Chrome()\n",
    "browser.get('https://www.daraz.pk/catalog/?q=books&_keyori=ss&from=input&spm=a2a0e.8553159.search.go.32604925hnKNlA')"
   ]
  },
  {
   "cell_type": "code",
   "execution_count": 9,
   "id": "8981cc27",
   "metadata": {},
   "outputs": [],
   "source": [
    "soup = BeautifulSoup(browser.page_source)"
   ]
  },
  {
   "cell_type": "code",
   "execution_count": 29,
   "id": "907b2105",
   "metadata": {},
   "outputs": [],
   "source": [
    "title=[]\n",
    "price=[]\n",
    "rating=[]\n",
    "discount=[]"
   ]
  },
  {
   "cell_type": "code",
   "execution_count": 36,
   "id": "868d887c",
   "metadata": {},
   "outputs": [],
   "source": [
    "title_tag=soup.find_all('div', class_='title--wFj93')\n",
    "price_tag=soup.find_all('div', class_='price--NVB62')\n",
    "rating_tag=soup.find_all('span', class_='rating__review--ygkUy')"
   ]
  },
  {
   "cell_type": "code",
   "execution_count": 37,
   "id": "5a023ccb",
   "metadata": {},
   "outputs": [],
   "source": [
    "for each in title_tag:\n",
    "    title.append(each.text)\n",
    "for each in price_tag:\n",
    "    price.append(each.text)\n",
    "for each in rating_tag:\n",
    "    rating.append(each.text)"
   ]
  },
  {
   "cell_type": "code",
   "execution_count": 38,
   "id": "3668b5eb",
   "metadata": {},
   "outputs": [],
   "source": [
    "df = pd.DataFrame({'title':title,'price':price,'rating':rating})"
   ]
  },
  {
   "cell_type": "code",
   "execution_count": 40,
   "id": "7dae1260",
   "metadata": {},
   "outputs": [],
   "source": [
    "df.to_csv('daraz.csv')"
   ]
  },
  {
   "cell_type": "code",
   "execution_count": null,
   "id": "782148d5",
   "metadata": {},
   "outputs": [],
   "source": []
  }
 ],
 "metadata": {
  "kernelspec": {
   "display_name": "Python 3 (ipykernel)",
   "language": "python",
   "name": "python3"
  },
  "language_info": {
   "codemirror_mode": {
    "name": "ipython",
    "version": 3
   },
   "file_extension": ".py",
   "mimetype": "text/x-python",
   "name": "python",
   "nbconvert_exporter": "python",
   "pygments_lexer": "ipython3",
   "version": "3.11.3"
  }
 },
 "nbformat": 4,
 "nbformat_minor": 5
}
